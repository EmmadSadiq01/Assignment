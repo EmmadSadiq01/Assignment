{
 "cells": [
  {
   "cell_type": "code",
   "execution_count": 3,
   "metadata": {},
   "outputs": [],
   "source": [
    "class car:\n",
    "    def __init__(self,name,model,color,company,capacity):\n",
    "        self.name=name\n",
    "        self.model=model\n",
    "        self.color=color\n",
    "        self.company=company\n",
    "        self.capacity=capacity\n",
    "        self.price=0\n",
    "        self.quantity=0\n",
    "        self.fault=\"null\"\n",
    "        \n",
    "    def updatePrice(self,newprice):\n",
    "        self.price=newprice\n",
    "    def updateQuantity(self,newquantity):\n",
    "        self.quantity=newquantity\n",
    "    def updateFault(self,newfault):\n",
    "        self.fault=newfault\n",
    "    \n",
    "        \n",
    "car1=car(\"Mehran\",2012,\"black\",\"suzuki\",\"800 cc\")\n",
    "car2=car(\"Corolla\",2016,\"white\",\"toyota\",\"1800 cc\")\n",
    "car3=car(\"Margalla\",1999,\"green\",\"suzuki\",\"1300 cc\")\n",
    "car4=car(\"fortuner\",2019,\"blue\",\"Toyota\",\"2700 cc\")\n",
    "car5=car(\"Cultus\",2007,\"green\",\"suzuki\",\"1400 cc\")\n",
    "car1.updatePrice(400000)\n",
    "car1.updateQuantity(4)\n",
    "car1.updateFault(\"Old Tyres\")\n"
   ]
  },
  {
   "cell_type": "code",
   "execution_count": null,
   "metadata": {},
   "outputs": [],
   "source": []
  }
 ],
 "metadata": {
  "kernelspec": {
   "display_name": "Python 3",
   "language": "python",
   "name": "python3"
  },
  "language_info": {
   "codemirror_mode": {
    "name": "ipython",
    "version": 3
   },
   "file_extension": ".py",
   "mimetype": "text/x-python",
   "name": "python",
   "nbconvert_exporter": "python",
   "pygments_lexer": "ipython3",
   "version": "3.7.4"
  }
 },
 "nbformat": 4,
 "nbformat_minor": 2
}
